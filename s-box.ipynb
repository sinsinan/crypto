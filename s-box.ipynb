{
 "cells": [
  {
   "cell_type": "code",
   "execution_count": 33,
   "metadata": {},
   "outputs": [],
   "source": [
    "import numpy\n",
    "import random"
   ]
  },
  {
   "cell_type": "code",
   "execution_count": 2,
   "metadata": {},
   "outputs": [],
   "source": [
    "key = u\"amkfhjkpoinhiopqwrtyujmkbvcxzqwe\""
   ]
  },
  {
   "cell_type": "code",
   "execution_count": 48,
   "metadata": {},
   "outputs": [],
   "source": [
    "def unicode_to_binary(key):\n",
    "    bin_key = \"\"\n",
    "    for letter in key:\n",
    "        a = bin(ord(letter))[2:]\n",
    "        while(len(a) < 32):\n",
    "            a=\"0\"+a\n",
    "        bin_key += a\n",
    "    return bin_key"
   ]
  },
  {
   "cell_type": "code",
   "execution_count": 50,
   "metadata": {},
   "outputs": [],
   "source": [
    "def make_suedo_random_array(size):\n",
    "    array=[]\n",
    "    while(len(array) < size):\n",
    "        array.append(random.randint(0,16))\n",
    "    return array\n",
    "        "
   ]
  },
  {
   "cell_type": "code",
   "execution_count": 49,
   "metadata": {},
   "outputs": [],
   "source": [
    "block = unicode_to_binary(key)\n",
    "z = 0\n",
    "p = make_suedo_random_array(512)"
   ]
  },
  {
   "cell_type": "code",
   "execution_count": 59,
   "metadata": {},
   "outputs": [],
   "source": [
    "cross_over1 = block[32 * (p[z]-1):(32 * (p[z]-1)) + 32]\n",
    "cross_over2 = block[2 * 32 * (p[z+1]-1):(2 * 32 * (p[z+1]-1)) + 32]"
   ]
  },
  {
   "cell_type": "code",
   "execution_count": 61,
   "metadata": {},
   "outputs": [
    {
     "name": "stdout",
     "output_type": "stream",
     "text": [
      "00000000011010000000000001101010\n"
     ]
    }
   ],
   "source": []
  },
  {
   "cell_type": "code",
   "execution_count": null,
   "metadata": {},
   "outputs": [],
   "source": []
  }
 ],
 "metadata": {
  "kernelspec": {
   "display_name": "Python 3",
   "language": "python",
   "name": "python3"
  },
  "language_info": {
   "codemirror_mode": {
    "name": "ipython",
    "version": 3
   },
   "file_extension": ".py",
   "mimetype": "text/x-python",
   "name": "python",
   "nbconvert_exporter": "python",
   "pygments_lexer": "ipython3",
   "version": "3.6.7"
  }
 },
 "nbformat": 4,
 "nbformat_minor": 2
}
